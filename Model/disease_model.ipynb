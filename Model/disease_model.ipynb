{
 "cells": [
  {
   "cell_type": "code",
   "execution_count": 17,
   "metadata": {},
   "outputs": [],
   "source": [
    "# Import libraries\n",
    "import pandas as pd\n",
    "import numpy as np\n",
    "import tensorflow as tf\n",
    "from sklearn.model_selection import train_test_split\n",
    "from sklearn.preprocessing import LabelEncoder"
   ]
  },
  {
   "cell_type": "code",
   "execution_count": 18,
   "metadata": {},
   "outputs": [],
   "source": [
    "\n",
    "# Load data from csv file\n",
    "data = pd.read_csv(\"training.csv\")\n",
    "# data = pd.read_csv(\"dataset_training.csv\")"
   ]
  },
  {
   "cell_type": "code",
   "execution_count": 19,
   "metadata": {},
   "outputs": [],
   "source": [
    "# Separate features and labels\n",
    "X = data.drop(\"Disease\", axis=1)\n",
    "y = data[\"Disease\"]"
   ]
  },
  {
   "cell_type": "code",
   "execution_count": 20,
   "metadata": {},
   "outputs": [],
   "source": [
    "# Encode labels to numerical values\n",
    "le = LabelEncoder()\n",
    "y = le.fit_transform(y)"
   ]
  },
  {
   "cell_type": "code",
   "execution_count": 21,
   "metadata": {},
   "outputs": [],
   "source": [
    "# Split data into train and test sets\n",
    "X_train, X_test, y_train, y_test = train_test_split(X, y, test_size=0.30, random_state=42)\n"
   ]
  },
  {
   "cell_type": "code",
   "execution_count": 22,
   "metadata": {},
   "outputs": [],
   "source": [
    "# Build a DNN model using tensorflow\n",
    "model = tf.keras.Sequential([\n",
    "    tf.keras.layers.Dense(64, activation=\"relu\", input_shape=(X.shape[1],)),\n",
    "    tf.keras.layers.Dense(32, activation=\"relu\"),\n",
    "    tf.keras.layers.Dense(len(le.classes_), activation=\"softmax\")\n",
    "])"
   ]
  },
  {
   "cell_type": "code",
   "execution_count": 23,
   "metadata": {},
   "outputs": [],
   "source": [
    "# Compile the model\n",
    "model.compile(optimizer=\"adam\", loss=\"sparse_categorical_crossentropy\", metrics=[\"accuracy\"])\n"
   ]
  },
  {
   "cell_type": "code",
   "execution_count": 24,
   "metadata": {},
   "outputs": [
    {
     "name": "stdout",
     "output_type": "stream",
     "text": [
      "Epoch 1/50\n"
     ]
    },
    {
     "name": "stdout",
     "output_type": "stream",
     "text": [
      "114/114 [==============================] - 0s 2ms/step - loss: 4.0856 - accuracy: 0.0088 - val_loss: 4.1017 - val_accuracy: 0.0000e+00\n",
      "Epoch 2/50\n",
      "114/114 [==============================] - 0s 1ms/step - loss: 3.9200 - accuracy: 0.0614 - val_loss: 4.1935 - val_accuracy: 0.0204\n",
      "Epoch 3/50\n",
      "114/114 [==============================] - 0s 900us/step - loss: 3.7178 - accuracy: 0.0789 - val_loss: 4.4229 - val_accuracy: 0.0204\n",
      "Epoch 4/50\n",
      "114/114 [==============================] - 0s 884us/step - loss: 3.4803 - accuracy: 0.1053 - val_loss: 4.6519 - val_accuracy: 0.0408\n",
      "Epoch 5/50\n",
      "114/114 [==============================] - 0s 886us/step - loss: 3.2375 - accuracy: 0.1930 - val_loss: 4.9540 - val_accuracy: 0.0408\n",
      "Epoch 6/50\n",
      "114/114 [==============================] - 0s 890us/step - loss: 2.9768 - accuracy: 0.2807 - val_loss: 5.2497 - val_accuracy: 0.0408\n",
      "Epoch 7/50\n",
      "114/114 [==============================] - 0s 894us/step - loss: 2.7058 - accuracy: 0.3333 - val_loss: 5.6001 - val_accuracy: 0.0204\n",
      "Epoch 8/50\n",
      "114/114 [==============================] - 0s 892us/step - loss: 2.4286 - accuracy: 0.3596 - val_loss: 5.8955 - val_accuracy: 0.0204\n",
      "Epoch 9/50\n",
      "114/114 [==============================] - 0s 883us/step - loss: 2.1781 - accuracy: 0.3860 - val_loss: 6.3685 - val_accuracy: 0.0204\n",
      "Epoch 10/50\n",
      "114/114 [==============================] - 0s 889us/step - loss: 1.9256 - accuracy: 0.4825 - val_loss: 6.7478 - val_accuracy: 0.0408\n",
      "Epoch 11/50\n",
      "114/114 [==============================] - 0s 878us/step - loss: 1.7185 - accuracy: 0.4737 - val_loss: 7.0963 - val_accuracy: 0.0408\n",
      "Epoch 12/50\n",
      "114/114 [==============================] - 0s 883us/step - loss: 1.5162 - accuracy: 0.5088 - val_loss: 7.5588 - val_accuracy: 0.0408\n",
      "Epoch 13/50\n",
      "114/114 [==============================] - 0s 885us/step - loss: 1.3753 - accuracy: 0.5263 - val_loss: 8.0078 - val_accuracy: 0.0408\n",
      "Epoch 14/50\n",
      "114/114 [==============================] - 0s 885us/step - loss: 1.2364 - accuracy: 0.5614 - val_loss: 8.3827 - val_accuracy: 0.0408\n",
      "Epoch 15/50\n",
      "114/114 [==============================] - 0s 914us/step - loss: 1.1412 - accuracy: 0.5614 - val_loss: 8.7754 - val_accuracy: 0.0408\n",
      "Epoch 16/50\n",
      "114/114 [==============================] - 0s 884us/step - loss: 1.0339 - accuracy: 0.5614 - val_loss: 8.9920 - val_accuracy: 0.0408\n",
      "Epoch 17/50\n",
      "114/114 [==============================] - 0s 882us/step - loss: 0.9911 - accuracy: 0.5702 - val_loss: 9.2799 - val_accuracy: 0.0408\n",
      "Epoch 18/50\n",
      "114/114 [==============================] - 0s 893us/step - loss: 0.9270 - accuracy: 0.5877 - val_loss: 9.5673 - val_accuracy: 0.0408\n",
      "Epoch 19/50\n",
      "114/114 [==============================] - 0s 883us/step - loss: 0.8737 - accuracy: 0.5965 - val_loss: 9.9128 - val_accuracy: 0.0204\n",
      "Epoch 20/50\n",
      "114/114 [==============================] - 0s 886us/step - loss: 0.8456 - accuracy: 0.5351 - val_loss: 10.1202 - val_accuracy: 0.0408\n",
      "Epoch 21/50\n",
      "114/114 [==============================] - 0s 888us/step - loss: 0.8287 - accuracy: 0.5351 - val_loss: 10.2764 - val_accuracy: 0.0408\n",
      "Epoch 22/50\n",
      "114/114 [==============================] - 0s 882us/step - loss: 0.8011 - accuracy: 0.5526 - val_loss: 10.3234 - val_accuracy: 0.0408\n",
      "Epoch 23/50\n",
      "114/114 [==============================] - 0s 882us/step - loss: 0.7795 - accuracy: 0.5614 - val_loss: 10.6460 - val_accuracy: 0.0408\n",
      "Epoch 24/50\n",
      "114/114 [==============================] - 0s 882us/step - loss: 0.7564 - accuracy: 0.5526 - val_loss: 10.7021 - val_accuracy: 0.0408\n",
      "Epoch 25/50\n",
      "114/114 [==============================] - 0s 884us/step - loss: 0.7407 - accuracy: 0.5439 - val_loss: 10.8390 - val_accuracy: 0.0408\n",
      "Epoch 26/50\n",
      "114/114 [==============================] - 0s 884us/step - loss: 0.7298 - accuracy: 0.5351 - val_loss: 10.9272 - val_accuracy: 0.0408\n",
      "Epoch 27/50\n",
      "114/114 [==============================] - 0s 877us/step - loss: 0.7036 - accuracy: 0.5439 - val_loss: 11.1013 - val_accuracy: 0.0204\n",
      "Epoch 28/50\n",
      "114/114 [==============================] - 0s 885us/step - loss: 0.7075 - accuracy: 0.5088 - val_loss: 11.2065 - val_accuracy: 0.0408\n",
      "Epoch 29/50\n",
      "114/114 [==============================] - 0s 893us/step - loss: 0.6985 - accuracy: 0.5789 - val_loss: 11.2856 - val_accuracy: 0.0408\n",
      "Epoch 30/50\n",
      "114/114 [==============================] - 0s 882us/step - loss: 0.6865 - accuracy: 0.5789 - val_loss: 11.4672 - val_accuracy: 0.0204\n",
      "Epoch 31/50\n",
      "114/114 [==============================] - 0s 892us/step - loss: 0.6815 - accuracy: 0.5614 - val_loss: 11.6098 - val_accuracy: 0.0408\n",
      "Epoch 32/50\n",
      "114/114 [==============================] - 0s 890us/step - loss: 0.6639 - accuracy: 0.5789 - val_loss: 11.4933 - val_accuracy: 0.0408\n",
      "Epoch 33/50\n",
      "114/114 [==============================] - 0s 888us/step - loss: 0.6687 - accuracy: 0.5614 - val_loss: 11.6607 - val_accuracy: 0.0408\n",
      "Epoch 34/50\n",
      "114/114 [==============================] - 0s 886us/step - loss: 0.6701 - accuracy: 0.5702 - val_loss: 11.8044 - val_accuracy: 0.0408\n",
      "Epoch 35/50\n",
      "114/114 [==============================] - 0s 887us/step - loss: 0.6510 - accuracy: 0.5789 - val_loss: 11.8437 - val_accuracy: 0.0408\n",
      "Epoch 36/50\n",
      "114/114 [==============================] - 0s 882us/step - loss: 0.6595 - accuracy: 0.5351 - val_loss: 11.9486 - val_accuracy: 0.0408\n",
      "Epoch 37/50\n",
      "114/114 [==============================] - 0s 891us/step - loss: 0.6407 - accuracy: 0.5614 - val_loss: 11.9267 - val_accuracy: 0.0408\n",
      "Epoch 38/50\n",
      "114/114 [==============================] - 0s 883us/step - loss: 0.6514 - accuracy: 0.5526 - val_loss: 12.0262 - val_accuracy: 0.0408\n",
      "Epoch 39/50\n",
      "114/114 [==============================] - 0s 879us/step - loss: 0.6441 - accuracy: 0.5614 - val_loss: 12.0639 - val_accuracy: 0.0408\n",
      "Epoch 40/50\n",
      "114/114 [==============================] - 0s 889us/step - loss: 0.6188 - accuracy: 0.5614 - val_loss: 12.1730 - val_accuracy: 0.0408\n",
      "Epoch 41/50\n",
      "114/114 [==============================] - 0s 878us/step - loss: 0.6381 - accuracy: 0.5526 - val_loss: 12.1664 - val_accuracy: 0.0408\n",
      "Epoch 42/50\n",
      "114/114 [==============================] - 0s 881us/step - loss: 0.6353 - accuracy: 0.5702 - val_loss: 12.1688 - val_accuracy: 0.0408\n",
      "Epoch 43/50\n",
      "114/114 [==============================] - 0s 879us/step - loss: 0.6379 - accuracy: 0.5702 - val_loss: 12.2732 - val_accuracy: 0.0408\n",
      "Epoch 44/50\n",
      "114/114 [==============================] - 0s 870us/step - loss: 0.6290 - accuracy: 0.5526 - val_loss: 12.3151 - val_accuracy: 0.0408\n",
      "Epoch 45/50\n",
      "114/114 [==============================] - 0s 889us/step - loss: 0.6322 - accuracy: 0.5789 - val_loss: 12.3573 - val_accuracy: 0.0408\n",
      "Epoch 46/50\n",
      "114/114 [==============================] - 0s 909us/step - loss: 0.6215 - accuracy: 0.5526 - val_loss: 12.4401 - val_accuracy: 0.0408\n",
      "Epoch 47/50\n",
      "114/114 [==============================] - 0s 893us/step - loss: 0.6170 - accuracy: 0.5439 - val_loss: 12.4684 - val_accuracy: 0.0408\n",
      "Epoch 48/50\n",
      "114/114 [==============================] - 0s 932us/step - loss: 0.6337 - accuracy: 0.5614 - val_loss: 12.5406 - val_accuracy: 0.0408\n",
      "Epoch 49/50\n",
      "114/114 [==============================] - 0s 2ms/step - loss: 0.6173 - accuracy: 0.5351 - val_loss: 12.5683 - val_accuracy: 0.0408\n",
      "Epoch 50/50\n",
      "114/114 [==============================] - 0s 2ms/step - loss: 0.6165 - accuracy: 0.5439 - val_loss: 12.6586 - val_accuracy: 0.0408\n"
     ]
    },
    {
     "data": {
      "text/plain": [
       "<keras.src.callbacks.History at 0x17bf363d0>"
      ]
     },
     "execution_count": 24,
     "metadata": {},
     "output_type": "execute_result"
    }
   ],
   "source": [
    "# Train the model\n",
    "model.fit(X_train, y_train, epochs=50, batch_size=1, validation_data=(X_test, y_test))\n"
   ]
  },
  {
   "cell_type": "code",
   "execution_count": 25,
   "metadata": {},
   "outputs": [
    {
     "name": "stdout",
     "output_type": "stream",
     "text": [
      "2/2 [==============================] - 0s 2ms/step - loss: 12.6586 - accuracy: 0.0408\n"
     ]
    },
    {
     "data": {
      "text/plain": [
       "[12.658553123474121, 0.040816325694322586]"
      ]
     },
     "execution_count": 25,
     "metadata": {},
     "output_type": "execute_result"
    }
   ],
   "source": [
    "# Evaluate the model on test data\n",
    "model.evaluate(X_test, y_test)"
   ]
  },
  {
   "cell_type": "code",
   "execution_count": 26,
   "metadata": {},
   "outputs": [
    {
     "name": "stdout",
     "output_type": "stream",
     "text": [
      "1/1 [==============================] - 0s 39ms/step\n",
      "[[6.25912389e-06 1.18911366e-07 5.37461747e-05 7.11168104e-05\n",
      "  2.32291350e-05 3.58298416e-06 2.72298462e-06 1.92339503e-05\n",
      "  3.79169705e-06 5.10319660e-04 3.14991717e-04 6.38705897e-05\n",
      "  2.42617400e-03 1.71261455e-03 7.66217090e-06 6.78634329e-04\n",
      "  1.29586784e-03 1.30949484e-04 4.14454284e-08 1.32800735e-04\n",
      "  3.55448424e-06 1.44982494e-07 4.15034322e-07 4.24610050e-07\n",
      "  4.70562190e-01 7.09851201e-06 9.46025068e-07 1.39390549e-03\n",
      "  1.19479699e-03 5.06299853e-01 4.87038726e-03 2.12200462e-07\n",
      "  7.84398289e-05 1.26130006e-04 1.82582809e-07 1.55586611e-06\n",
      "  5.68297253e-07 2.54517386e-06 5.80224224e-09 1.58024091e-06\n",
      "  2.91538829e-08 4.00814315e-08 3.76466460e-07 7.76846173e-06\n",
      "  2.13529775e-03 5.41626505e-05 2.00870502e-08 2.41035304e-05\n",
      "  1.37576478e-07 2.25404438e-05 2.64064111e-05 3.49708017e-07\n",
      "  3.99181033e-07 1.53987494e-04 1.36181299e-07 5.57140680e-03\n",
      "  2.81006322e-07 4.34855814e-08]]\n",
      "The predicted disease is ['Quirkinessosis'] with 50.63% confidence.\n"
     ]
    }
   ],
   "source": [
    "\n",
    "# Make predictions on new symptoms\n",
    "symptoms = np.array([[0,0,0,0,0,1,0,0,0,0,0,0,0,0,0,0,0,0,0,0,0,0,0,0,0,0,0,0,0,0,0,0,0,0,0,0,0,0,0,0,0,0,0,0,0,0,0,0,0,0,0,0,0,0,0,0,0,0,0,0,0,0,1,1,0,0,0,0,0,0,0,0,0,0,0,0,0,0,0,0,0,0,0,0,0,0,0,0,0,0,0,0,0,0,0,0,0,0,0,0,0,0,0,0,0,0,0,0,0,0,0,0,0,0,0,0,0,0,0,0,0,0]]) # example symptoms\n",
    "predictions = model.predict(symptoms)\n",
    "print(predictions)\n",
    "# Get the disease name and confidence score\n",
    "disease = le.inverse_transform([np.argmax(predictions)])\n",
    "confidence = np.max(predictions)\n",
    "print(f\"The predicted disease is {disease} with {confidence*100:.2f}% confidence.\")"
   ]
  },
  {
   "cell_type": "code",
   "execution_count": 27,
   "metadata": {},
   "outputs": [
    {
     "name": "stdout",
     "output_type": "stream",
     "text": [
      "Fever\n",
      "Loss Of Appetite\n",
      "Weight Loss\n",
      "Reduced Milk Production\n",
      "Coughing\n",
      "Nasal Discharge\n",
      "Diarrhoea\n",
      "Constipation\n",
      "Difficulty Breathing\n",
      "Lameness\n",
      "Swollen Joints\n",
      "Skin Lesions\n",
      "Bloating\n",
      "Dehydration\n",
      "Behavioural Change\n",
      "Disease\n",
      "['Fever', 'Loss Of Appetite', 'Weight Loss', 'Reduced Milk Production', 'Coughing', 'Nasal Discharge', 'Diarrhoea', 'Constipation', 'Difficulty Breathing', 'Lameness', 'Swollen Joints', 'Skin Lesions', 'Bloating', 'Dehydration', 'Behavioural Change']\n"
     ]
    }
   ],
   "source": [
    "import csv\n",
    "headers = []\n",
    "DATA_PATH = \"dataset_training.csv\"\n",
    "with open(DATA_PATH) as csv_file:\n",
    "     csv_reader = csv.reader(csv_file, delimiter=',')\n",
    "     headers = next(csv_reader)\n",
    "     # print(headers)\n",
    "#replace every first letter of the symptom with capital letter\n",
    "words = []\n",
    "for word in headers:\n",
    "     word = \" \".join([i.capitalize() for i in word.split(\"_\")])\n",
    "     words.append(word)\n",
    "     print(word)\n",
    "# headers = headers.replace(\"_\", \" \")\n",
    "# print(headers)\n",
    "#Capitalize the first letter after every _ without splitting\n",
    "# Headers = \"\";\n",
    "# for i in range(len(headers)):\n",
    "# \tif headers[i-1] == ',' or ' ':\n",
    "# \t\t# print(headers[i])\n",
    "# \t\tHeaders += headers[i].capitalize()\n",
    "# \telse: Headers += headers[i]\n",
    "# print(words)\n",
    "words = words[:-1]\n",
    "print(words)\n",
    "\t"
   ]
  },
  {
   "cell_type": "code",
   "execution_count": 29,
   "metadata": {},
   "outputs": [
    {
     "name": "stderr",
     "output_type": "stream",
     "text": [
      "/Users/ittaitumelo/miniconda3/envs/bushfire/lib/python3.11/site-packages/tqdm/auto.py:21: TqdmWarning: IProgress not found. Please update jupyter and ipywidgets. See https://ipywidgets.readthedocs.io/en/stable/user_install.html\n",
      "  from .autonotebook import tqdm as notebook_tqdm\n"
     ]
    },
    {
     "ename": "ImportError",
     "evalue": "cannot import name 'TypeAliasType' from 'typing_extensions' (/Users/ittaitumelo/miniconda3/envs/bushfire/lib/python3.11/site-packages/typing_extensions.py)",
     "output_type": "error",
     "traceback": [
      "\u001b[0;31m---------------------------------------------------------------------------\u001b[0m",
      "\u001b[0;31mImportError\u001b[0m                               Traceback (most recent call last)",
      "Cell \u001b[0;32mIn[29], line 2\u001b[0m\n\u001b[1;32m      1\u001b[0m \u001b[39m# Import gradio library\u001b[39;00m\n\u001b[0;32m----> 2\u001b[0m \u001b[39mimport\u001b[39;00m \u001b[39mgradio\u001b[39;00m \u001b[39mas\u001b[39;00m \u001b[39mgr\u001b[39;00m\n\u001b[1;32m      4\u001b[0m \u001b[39m# Define a function that takes symptoms as input and returns disease prediction and confidence\u001b[39;00m\n\u001b[1;32m      5\u001b[0m \u001b[39mdef\u001b[39;00m \u001b[39mpredict_disease\u001b[39m(symptoms):\n",
      "File \u001b[0;32m~/miniconda3/envs/bushfire/lib/python3.11/site-packages/gradio/__init__.py:3\u001b[0m\n\u001b[1;32m      1\u001b[0m \u001b[39mimport\u001b[39;00m \u001b[39mpkgutil\u001b[39;00m\n\u001b[0;32m----> 3\u001b[0m \u001b[39mimport\u001b[39;00m \u001b[39mgradio\u001b[39;00m\u001b[39m.\u001b[39;00m\u001b[39mcomponents\u001b[39;00m \u001b[39mas\u001b[39;00m \u001b[39mcomponents\u001b[39;00m\n\u001b[1;32m      4\u001b[0m \u001b[39mimport\u001b[39;00m \u001b[39mgradio\u001b[39;00m\u001b[39m.\u001b[39;00m\u001b[39minputs\u001b[39;00m \u001b[39mas\u001b[39;00m \u001b[39minputs\u001b[39;00m\n\u001b[1;32m      5\u001b[0m \u001b[39mimport\u001b[39;00m \u001b[39mgradio\u001b[39;00m\u001b[39m.\u001b[39;00m\u001b[39moutputs\u001b[39;00m \u001b[39mas\u001b[39;00m \u001b[39moutputs\u001b[39;00m\n",
      "File \u001b[0;32m~/miniconda3/envs/bushfire/lib/python3.11/site-packages/gradio/components/__init__.py:1\u001b[0m\n\u001b[0;32m----> 1\u001b[0m \u001b[39mfrom\u001b[39;00m \u001b[39mgradio\u001b[39;00m\u001b[39m.\u001b[39;00m\u001b[39mcomponents\u001b[39;00m\u001b[39m.\u001b[39;00m\u001b[39mannotated_image\u001b[39;00m \u001b[39mimport\u001b[39;00m AnnotatedImage\n\u001b[1;32m      2\u001b[0m \u001b[39mfrom\u001b[39;00m \u001b[39mgradio\u001b[39;00m\u001b[39m.\u001b[39;00m\u001b[39mcomponents\u001b[39;00m\u001b[39m.\u001b[39;00m\u001b[39maudio\u001b[39;00m \u001b[39mimport\u001b[39;00m Audio\n\u001b[1;32m      3\u001b[0m \u001b[39mfrom\u001b[39;00m \u001b[39mgradio\u001b[39;00m\u001b[39m.\u001b[39;00m\u001b[39mcomponents\u001b[39;00m\u001b[39m.\u001b[39;00m\u001b[39mbar_plot\u001b[39;00m \u001b[39mimport\u001b[39;00m BarPlot\n",
      "File \u001b[0;32m~/miniconda3/envs/bushfire/lib/python3.11/site-packages/gradio/components/annotated_image.py:12\u001b[0m\n\u001b[1;32m      9\u001b[0m \u001b[39mfrom\u001b[39;00m \u001b[39mgradio_client\u001b[39;00m\u001b[39m.\u001b[39;00m\u001b[39mserializing\u001b[39;00m \u001b[39mimport\u001b[39;00m JSONSerializable\n\u001b[1;32m     10\u001b[0m \u001b[39mfrom\u001b[39;00m \u001b[39mPIL\u001b[39;00m \u001b[39mimport\u001b[39;00m Image \u001b[39mas\u001b[39;00m _Image  \u001b[39m# using _ to minimize namespace pollution\u001b[39;00m\n\u001b[0;32m---> 12\u001b[0m \u001b[39mfrom\u001b[39;00m \u001b[39mgradio\u001b[39;00m \u001b[39mimport\u001b[39;00m utils\n\u001b[1;32m     13\u001b[0m \u001b[39mfrom\u001b[39;00m \u001b[39mgradio\u001b[39;00m\u001b[39m.\u001b[39;00m\u001b[39mcomponents\u001b[39;00m\u001b[39m.\u001b[39;00m\u001b[39mbase\u001b[39;00m \u001b[39mimport\u001b[39;00m IOComponent, _Keywords\n\u001b[1;32m     14\u001b[0m \u001b[39mfrom\u001b[39;00m \u001b[39mgradio\u001b[39;00m\u001b[39m.\u001b[39;00m\u001b[39mdeprecation\u001b[39;00m \u001b[39mimport\u001b[39;00m warn_style_method_deprecation\n",
      "File \u001b[0;32m~/miniconda3/envs/bushfire/lib/python3.11/site-packages/gradio/utils.py:42\u001b[0m\n\u001b[1;32m     40\u001b[0m \u001b[39mfrom\u001b[39;00m \u001b[39mmdit_py_plugins\u001b[39;00m\u001b[39m.\u001b[39;00m\u001b[39mdollarmath\u001b[39;00m\u001b[39m.\u001b[39;00m\u001b[39mindex\u001b[39;00m \u001b[39mimport\u001b[39;00m dollarmath_plugin\n\u001b[1;32m     41\u001b[0m \u001b[39mfrom\u001b[39;00m \u001b[39mmdit_py_plugins\u001b[39;00m\u001b[39m.\u001b[39;00m\u001b[39mfootnote\u001b[39;00m\u001b[39m.\u001b[39;00m\u001b[39mindex\u001b[39;00m \u001b[39mimport\u001b[39;00m footnote_plugin\n\u001b[0;32m---> 42\u001b[0m \u001b[39mfrom\u001b[39;00m \u001b[39mpydantic\u001b[39;00m \u001b[39mimport\u001b[39;00m BaseModel, parse_obj_as\n\u001b[1;32m     44\u001b[0m \u001b[39mimport\u001b[39;00m \u001b[39mgradio\u001b[39;00m\n\u001b[1;32m     45\u001b[0m \u001b[39mfrom\u001b[39;00m \u001b[39mgradio\u001b[39;00m\u001b[39m.\u001b[39;00m\u001b[39mcontext\u001b[39;00m \u001b[39mimport\u001b[39;00m Context\n",
      "File \u001b[0;32m~/miniconda3/envs/bushfire/lib/python3.11/site-packages/pydantic/__init__.py:13\u001b[0m\n\u001b[1;32m      3\u001b[0m \u001b[39mimport\u001b[39;00m \u001b[39mpydantic_core\u001b[39;00m\n\u001b[1;32m      4\u001b[0m \u001b[39mfrom\u001b[39;00m \u001b[39mpydantic_core\u001b[39;00m\u001b[39m.\u001b[39;00m\u001b[39mcore_schema\u001b[39;00m \u001b[39mimport\u001b[39;00m (\n\u001b[1;32m      5\u001b[0m     FieldSerializationInfo,\n\u001b[1;32m      6\u001b[0m     FieldValidationInfo,\n\u001b[0;32m   (...)\u001b[0m\n\u001b[1;32m     10\u001b[0m     ValidatorFunctionWrapHandler,\n\u001b[1;32m     11\u001b[0m )\n\u001b[0;32m---> 13\u001b[0m \u001b[39mfrom\u001b[39;00m \u001b[39m.\u001b[39;00m \u001b[39mimport\u001b[39;00m dataclasses\n\u001b[1;32m     14\u001b[0m \u001b[39mfrom\u001b[39;00m \u001b[39m.\u001b[39;00m\u001b[39m_internal\u001b[39;00m\u001b[39m.\u001b[39;00m\u001b[39m_annotated_handlers\u001b[39;00m \u001b[39mimport\u001b[39;00m (\n\u001b[1;32m     15\u001b[0m     GetCoreSchemaHandler \u001b[39mas\u001b[39;00m GetCoreSchemaHandler,\n\u001b[1;32m     16\u001b[0m )\n\u001b[1;32m     17\u001b[0m \u001b[39mfrom\u001b[39;00m \u001b[39m.\u001b[39;00m\u001b[39m_internal\u001b[39;00m\u001b[39m.\u001b[39;00m\u001b[39m_annotated_handlers\u001b[39;00m \u001b[39mimport\u001b[39;00m (\n\u001b[1;32m     18\u001b[0m     GetJsonSchemaHandler \u001b[39mas\u001b[39;00m GetJsonSchemaHandler,\n\u001b[1;32m     19\u001b[0m )\n",
      "File \u001b[0;32m~/miniconda3/envs/bushfire/lib/python3.11/site-packages/pydantic/dataclasses.py:11\u001b[0m\n\u001b[1;32m      7\u001b[0m \u001b[39mfrom\u001b[39;00m \u001b[39mtyping\u001b[39;00m \u001b[39mimport\u001b[39;00m TYPE_CHECKING, Any, Callable, Generic, NoReturn, TypeVar, overload\n\u001b[1;32m      9\u001b[0m \u001b[39mfrom\u001b[39;00m \u001b[39mtyping_extensions\u001b[39;00m \u001b[39mimport\u001b[39;00m Literal, dataclass_transform\n\u001b[0;32m---> 11\u001b[0m \u001b[39mfrom\u001b[39;00m \u001b[39m.\u001b[39;00m\u001b[39m_internal\u001b[39;00m \u001b[39mimport\u001b[39;00m _config, _decorators, _typing_extra\n\u001b[1;32m     12\u001b[0m \u001b[39mfrom\u001b[39;00m \u001b[39m.\u001b[39;00m\u001b[39m_internal\u001b[39;00m \u001b[39mimport\u001b[39;00m _dataclasses \u001b[39mas\u001b[39;00m _pydantic_dataclasses\n\u001b[1;32m     13\u001b[0m \u001b[39mfrom\u001b[39;00m \u001b[39m.\u001b[39;00m\u001b[39m_migration\u001b[39;00m \u001b[39mimport\u001b[39;00m getattr_migration\n",
      "File \u001b[0;32m~/miniconda3/envs/bushfire/lib/python3.11/site-packages/pydantic/_internal/_decorators.py:15\u001b[0m\n\u001b[1;32m     12\u001b[0m \u001b[39mfrom\u001b[39;00m \u001b[39mtyping_extensions\u001b[39;00m \u001b[39mimport\u001b[39;00m Literal, TypeAlias, is_typeddict\n\u001b[1;32m     14\u001b[0m \u001b[39mfrom\u001b[39;00m \u001b[39m.\u001b[39;00m\u001b[39m.\u001b[39;00m\u001b[39merrors\u001b[39;00m \u001b[39mimport\u001b[39;00m PydanticUserError\n\u001b[0;32m---> 15\u001b[0m \u001b[39mfrom\u001b[39;00m \u001b[39m.\u001b[39;00m\u001b[39m.\u001b[39;00m\u001b[39mfields\u001b[39;00m \u001b[39mimport\u001b[39;00m ComputedFieldInfo\n\u001b[1;32m     16\u001b[0m \u001b[39mfrom\u001b[39;00m \u001b[39m.\u001b[39;00m\u001b[39m_core_utils\u001b[39;00m \u001b[39mimport\u001b[39;00m get_type_ref\n\u001b[1;32m     17\u001b[0m \u001b[39mfrom\u001b[39;00m \u001b[39m.\u001b[39;00m\u001b[39m_internal_dataclass\u001b[39;00m \u001b[39mimport\u001b[39;00m slots_true\n",
      "File \u001b[0;32m~/miniconda3/envs/bushfire/lib/python3.11/site-packages/pydantic/fields.py:18\u001b[0m\n\u001b[1;32m     15\u001b[0m \u001b[39mfrom\u001b[39;00m \u001b[39mpydantic_core\u001b[39;00m \u001b[39mimport\u001b[39;00m PydanticUndefined\n\u001b[1;32m     16\u001b[0m \u001b[39mfrom\u001b[39;00m \u001b[39mtyping_extensions\u001b[39;00m \u001b[39mimport\u001b[39;00m Unpack\n\u001b[0;32m---> 18\u001b[0m \u001b[39mfrom\u001b[39;00m \u001b[39m.\u001b[39;00m \u001b[39mimport\u001b[39;00m types\n\u001b[1;32m     19\u001b[0m \u001b[39mfrom\u001b[39;00m \u001b[39m.\u001b[39;00m\u001b[39m_internal\u001b[39;00m \u001b[39mimport\u001b[39;00m _decorators, _fields, _generics, _internal_dataclass, _repr, _typing_extra, _utils\n\u001b[1;32m     20\u001b[0m \u001b[39mfrom\u001b[39;00m \u001b[39m.\u001b[39;00m\u001b[39merrors\u001b[39;00m \u001b[39mimport\u001b[39;00m PydanticUserError\n",
      "File \u001b[0;32m~/miniconda3/envs/bushfire/lib/python3.11/site-packages/pydantic/types.py:32\u001b[0m\n\u001b[1;32m     29\u001b[0m \u001b[39mfrom\u001b[39;00m \u001b[39mpydantic_core\u001b[39;00m \u001b[39mimport\u001b[39;00m CoreSchema, PydanticCustomError, PydanticKnownError, core_schema\n\u001b[1;32m     30\u001b[0m \u001b[39mfrom\u001b[39;00m \u001b[39mtyping_extensions\u001b[39;00m \u001b[39mimport\u001b[39;00m Annotated, Literal, Protocol, deprecated\n\u001b[0;32m---> 32\u001b[0m \u001b[39mfrom\u001b[39;00m \u001b[39m.\u001b[39;00m\u001b[39m_internal\u001b[39;00m \u001b[39mimport\u001b[39;00m (\n\u001b[1;32m     33\u001b[0m     _annotated_handlers,\n\u001b[1;32m     34\u001b[0m     _fields,\n\u001b[1;32m     35\u001b[0m     _internal_dataclass,\n\u001b[1;32m     36\u001b[0m     _known_annotated_metadata,\n\u001b[1;32m     37\u001b[0m     _utils,\n\u001b[1;32m     38\u001b[0m     _validators,\n\u001b[1;32m     39\u001b[0m )\n\u001b[1;32m     40\u001b[0m \u001b[39mfrom\u001b[39;00m \u001b[39m.\u001b[39;00m\u001b[39m_migration\u001b[39;00m \u001b[39mimport\u001b[39;00m getattr_migration\n\u001b[1;32m     41\u001b[0m \u001b[39mfrom\u001b[39;00m \u001b[39m.\u001b[39;00m\u001b[39mconfig\u001b[39;00m \u001b[39mimport\u001b[39;00m ConfigDict\n",
      "File \u001b[0;32m~/miniconda3/envs/bushfire/lib/python3.11/site-packages/pydantic/_internal/_fields.py:12\u001b[0m\n\u001b[1;32m      8\u001b[0m \u001b[39mfrom\u001b[39;00m \u001b[39mtyping\u001b[39;00m \u001b[39mimport\u001b[39;00m TYPE_CHECKING, Any\n\u001b[1;32m     10\u001b[0m \u001b[39mfrom\u001b[39;00m \u001b[39mpydantic_core\u001b[39;00m \u001b[39mimport\u001b[39;00m PydanticUndefined\n\u001b[0;32m---> 12\u001b[0m \u001b[39mfrom\u001b[39;00m \u001b[39m.\u001b[39;00m \u001b[39mimport\u001b[39;00m _typing_extra\n\u001b[1;32m     13\u001b[0m \u001b[39mfrom\u001b[39;00m \u001b[39m.\u001b[39;00m\u001b[39m_config\u001b[39;00m \u001b[39mimport\u001b[39;00m ConfigWrapper\n\u001b[1;32m     14\u001b[0m \u001b[39mfrom\u001b[39;00m \u001b[39m.\u001b[39;00m\u001b[39m_repr\u001b[39;00m \u001b[39mimport\u001b[39;00m Representation\n",
      "File \u001b[0;32m~/miniconda3/envs/bushfire/lib/python3.11/site-packages/pydantic/_internal/_typing_extra.py:13\u001b[0m\n\u001b[1;32m     10\u001b[0m \u001b[39mfrom\u001b[39;00m \u001b[39mtypes\u001b[39;00m \u001b[39mimport\u001b[39;00m GetSetDescriptorType\n\u001b[1;32m     11\u001b[0m \u001b[39mfrom\u001b[39;00m \u001b[39mtyping\u001b[39;00m \u001b[39mimport\u001b[39;00m TYPE_CHECKING, Any, ForwardRef\n\u001b[0;32m---> 13\u001b[0m \u001b[39mfrom\u001b[39;00m \u001b[39mtyping_extensions\u001b[39;00m \u001b[39mimport\u001b[39;00m Annotated, Final, Literal, TypeAliasType, TypeGuard, get_args, get_origin\n\u001b[1;32m     15\u001b[0m \u001b[39mif\u001b[39;00m TYPE_CHECKING:\n\u001b[1;32m     16\u001b[0m     \u001b[39mfrom\u001b[39;00m \u001b[39m.\u001b[39;00m\u001b[39m_dataclasses\u001b[39;00m \u001b[39mimport\u001b[39;00m StandardDataclass\n",
      "\u001b[0;31mImportError\u001b[0m: cannot import name 'TypeAliasType' from 'typing_extensions' (/Users/ittaitumelo/miniconda3/envs/bushfire/lib/python3.11/site-packages/typing_extensions.py)"
     ]
    }
   ],
   "source": [
    "# Import gradio library\n",
    "import gradio as gr\n",
    "\n",
    "# Define a function that takes symptoms as input and returns disease prediction and confidence\n",
    "def predict_disease(symptoms):\n",
    "  print(symptoms)\n",
    "  \n",
    "  input_data = [0]*len(words)\n",
    "  for i in range(len(words)):\n",
    "    if words[i] in symptoms:\n",
    "      input_data[i] = 1\n",
    "  print(input_data)\n",
    "  # # Convert symptoms to numpy array\n",
    "  symptoms = np.array([input_data])\n",
    "  \n",
    "\n",
    "  # # Make predictions using the model\n",
    "  predictions = model.predict(symptoms)\n",
    "  \n",
    "  # # Get the disease name and confidence score\n",
    "  disease = le.inverse_transform([np.argmax(predictions)])[0]\n",
    "  confidence = np.max(predictions)\n",
    "  \n",
    "  # Return the output as a string\n",
    "  return f\"The predicted disease is {disease} with {confidence*100:.2f}% confidence.\"\n",
    "  # return f\"The predicted disease is confidence.\"\n",
    "\n",
    "# Create a gradio interface with a checkbox group for symptoms and a text output for prediction\n",
    "iface = gr.Interface(\n",
    "  fn=predict_disease,\n",
    "  inputs=gr.inputs.CheckboxGroup(words),\n",
    "  outputs=\"text\"\n",
    ")\n",
    "\n",
    "# Launch the interface\n",
    "iface.launch()\n",
    "\n",
    "\n",
    "\n",
    "\n",
    "\n",
    "\n",
    "\n",
    "\n",
    "\n",
    "\n",
    "\n",
    "\n"
   ]
  },
  {
   "cell_type": "code",
   "execution_count": null,
   "metadata": {},
   "outputs": [
    {
     "name": "stdout",
     "output_type": "stream",
     "text": [
      "INFO:tensorflow:Assets written to: disease_model/assets\n"
     ]
    },
    {
     "name": "stderr",
     "output_type": "stream",
     "text": [
      "2023-05-19 11:50:40.348981: W tensorflow/compiler/mlir/lite/python/tf_tfl_flatbuffer_helpers.cc:364] Ignored output_format.\n",
      "2023-05-19 11:50:40.349005: W tensorflow/compiler/mlir/lite/python/tf_tfl_flatbuffer_helpers.cc:367] Ignored drop_control_dependency.\n"
     ]
    },
    {
     "name": "stdout",
     "output_type": "stream",
     "text": [
      "['Loss Of Appetite', 'Weight Loss', 'Nasal Discharge', 'Difficulty Breathing', 'Lameness']\n",
      "[0, 1, 1, 0, 0, 1, 0, 0, 1, 1, 0, 0, 0, 0, 0]\n",
      "1/1 [==============================] - 0s 16ms/step\n",
      "['Loss Of Appetite', 'Weight Loss', 'Nasal Discharge', 'Difficulty Breathing', 'Lameness', 'Dehydration', 'Constipation', 'Coughing']\n",
      "[0, 1, 1, 0, 1, 1, 0, 1, 1, 1, 0, 0, 0, 1, 0]\n",
      "1/1 [==============================] - 0s 17ms/step\n"
     ]
    }
   ],
   "source": [
    "\n",
    "# Save the model as a SavedModel\n",
    "model.save(\"disease_model\")\n",
    "\n",
    "# Convert the SavedModel to a tflite model\n",
    "converter = tf.lite.TFLiteConverter.from_saved_model(\"disease_model\")\n",
    "tflite_model = converter.convert()\n",
    "\n",
    "# Save the tflite model\n",
    "with open(\"disease_model.tflite\", \"wb\") as f:\n",
    "  f.write(tflite_model)\n"
   ]
  },
  {
   "cell_type": "code",
   "execution_count": null,
   "metadata": {},
   "outputs": [],
   "source": []
  },
  {
   "cell_type": "code",
   "execution_count": null,
   "metadata": {},
   "outputs": [],
   "source": []
  }
 ],
 "metadata": {
  "kernelspec": {
   "display_name": "bushfire",
   "language": "python",
   "name": "python3"
  },
  "language_info": {
   "codemirror_mode": {
    "name": "ipython",
    "version": 3
   },
   "file_extension": ".py",
   "mimetype": "text/x-python",
   "name": "python",
   "nbconvert_exporter": "python",
   "pygments_lexer": "ipython3",
   "version": "3.11.3"
  },
  "orig_nbformat": 4
 },
 "nbformat": 4,
 "nbformat_minor": 2
}
